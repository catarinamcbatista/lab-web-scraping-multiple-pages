{
 "cells": [
  {
   "cell_type": "markdown",
   "metadata": {},
   "source": [
    "# Lab | Web Scraping Multiple Pages"
   ]
  },
  {
   "cell_type": "markdown",
   "metadata": {},
   "source": [
    "Practice web scraping\n",
    "As you've seen, scraping the internet is a skill that can get you all sorts of information. Here are some little challenges that you can try to gain more experience in the field:\n",
    "\n",
    "Retrieve an arbitrary Wikipedia page of \"Python\" and create a list of links on that page: url ='https://en.wikipedia.org/wiki/Python'\n",
    "\n",
    "\n",
    "Find the number of titles that have changed in the United States Code since its last release point: url = 'http://uscode.house.gov/download/download.shtml'\n",
    "\n",
    "\n",
    "Create a Python list with the top ten FBI's Most Wanted names: url = 'https://www.fbi.gov/wanted/topten'\n",
    "Display the 20 latest earthquakes info (date, time, latitude, longitude and region name) by the EMSC as a pandas dataframe: url = 'https://www.emsc-csem.org/Earthquake/'\n",
    "\n",
    "\n",
    "List all language names and number of related articles in the order they appear in wikipedia.org: url = 'https://www.wikipedia.org/'\n",
    "\n",
    "\n",
    "A list with the different kind of datasets available in data.gov.uk: url = 'https://data.gov.uk/'\n",
    "\n",
    "\n",
    "Display the top 10 languages by number of native speakers stored in a pandas dataframe: url = 'https://en.wikipedia.org/wiki/List_of_languages_by_number_of_native_speakers'"
   ]
  },
  {
   "cell_type": "code",
   "execution_count": 57,
   "metadata": {},
   "outputs": [],
   "source": [
    "# 1. Retrieve an arbitrary Wikipedia page of \"Python\" and create a list of links on that\n",
    "# page: url ='https://en.wikipedia.org/wiki/Python'\n",
    "\n",
    "# Loading the library\n",
    "\n",
    "from bs4 import BeautifulSoup\n",
    "import requests\n",
    "import pandas as pd\n",
    "import numpy as np"
   ]
  },
  {
   "cell_type": "code",
   "execution_count": 58,
   "metadata": {},
   "outputs": [
    {
     "data": {
      "text/plain": [
       "200"
      ]
     },
     "execution_count": 58,
     "metadata": {},
     "output_type": "execute_result"
    }
   ],
   "source": [
    "# Getting the html of the webpage\n",
    "\n",
    "response = requests.get('https://en.wikipedia.org/wiki/Python')\n",
    "response.status_code"
   ]
  },
  {
   "cell_type": "code",
   "execution_count": 59,
   "metadata": {},
   "outputs": [],
   "source": [
    "# Parsing the html code\n",
    "\n",
    "soup = BeautifulSoup(response.content, \"html.parser\")"
   ]
  },
  {
   "cell_type": "code",
   "execution_count": 60,
   "metadata": {},
   "outputs": [
    {
     "data": {
      "text/plain": [
       "[<a id=\"top\"></a>,\n",
       " <a class=\"mw-jump-link\" href=\"#mw-head\">Jump to navigation</a>,\n",
       " <a class=\"mw-jump-link\" href=\"#searchInput\">Jump to search</a>,\n",
       " <a class=\"extiw\" href=\"https://en.wiktionary.org/wiki/Python\" title=\"wiktionary:Python\">Python</a>,\n",
       " <a class=\"extiw\" href=\"https://en.wiktionary.org/wiki/python\" title=\"wiktionary:python\">python</a>,\n",
       " <a class=\"mw-redirect\" href=\"/wiki/Pythons\" title=\"Pythons\">Pythons</a>,\n",
       " <a href=\"/wiki/Python_(genus)\" title=\"Python (genus)\"><i>Python</i> (genus)</a>,\n",
       " <a href=\"#Computing\"><span class=\"tocnumber\">1</span> <span class=\"toctext\">Computing</span></a>,\n",
       " <a href=\"#People\"><span class=\"tocnumber\">2</span> <span class=\"toctext\">People</span></a>,\n",
       " <a href=\"#Roller_coasters\"><span class=\"tocnumber\">3</span> <span class=\"toctext\">Roller coasters</span></a>,\n",
       " <a href=\"#Vehicles\"><span class=\"tocnumber\">4</span> <span class=\"toctext\">Vehicles</span></a>,\n",
       " <a href=\"#Weaponry\"><span class=\"tocnumber\">5</span> <span class=\"toctext\">Weaponry</span></a>,\n",
       " <a href=\"#Other_uses\"><span class=\"tocnumber\">6</span> <span class=\"toctext\">Other uses</span></a>,\n",
       " <a href=\"#See_also\"><span class=\"tocnumber\">7</span> <span class=\"toctext\">See also</span></a>,\n",
       " <a href=\"/w/index.php?title=Python&amp;action=edit&amp;section=1\" title=\"Edit section: Computing\">edit</a>,\n",
       " <a href=\"/wiki/Python_(programming_language)\" title=\"Python (programming language)\">Python (programming language)</a>,\n",
       " <a href=\"/wiki/CMU_Common_Lisp\" title=\"CMU Common Lisp\">CMU Common Lisp</a>,\n",
       " <a href=\"/wiki/PERQ#PERQ_3\" title=\"PERQ\">PERQ 3</a>,\n",
       " <a href=\"/w/index.php?title=Python&amp;action=edit&amp;section=2\" title=\"Edit section: People\">edit</a>,\n",
       " <a href=\"/wiki/Python_of_Aenus\" title=\"Python of Aenus\">Python of Aenus</a>,\n",
       " <a href=\"/wiki/Python_(painter)\" title=\"Python (painter)\">Python (painter)</a>,\n",
       " <a href=\"/wiki/Python_of_Byzantium\" title=\"Python of Byzantium\">Python of Byzantium</a>,\n",
       " <a href=\"/wiki/Python_of_Catana\" title=\"Python of Catana\">Python of Catana</a>,\n",
       " <a href=\"/wiki/Python_Anghelo\" title=\"Python Anghelo\">Python Anghelo</a>,\n",
       " <a href=\"/w/index.php?title=Python&amp;action=edit&amp;section=3\" title=\"Edit section: Roller coasters\">edit</a>,\n",
       " <a href=\"/wiki/Python_(Efteling)\" title=\"Python (Efteling)\">Python (Efteling)</a>,\n",
       " <a href=\"/wiki/Python_(Busch_Gardens_Tampa_Bay)\" title=\"Python (Busch Gardens Tampa Bay)\">Python (Busch Gardens Tampa Bay)</a>,\n",
       " <a href=\"/wiki/Python_(Coney_Island,_Cincinnati,_Ohio)\" title=\"Python (Coney Island, Cincinnati, Ohio)\">Python (Coney Island, Cincinnati, Ohio)</a>,\n",
       " <a href=\"/w/index.php?title=Python&amp;action=edit&amp;section=4\" title=\"Edit section: Vehicles\">edit</a>,\n",
       " <a href=\"/wiki/Python_(automobile_maker)\" title=\"Python (automobile maker)\">Python (automobile maker)</a>,\n",
       " <a href=\"/wiki/Python_(Ford_prototype)\" title=\"Python (Ford prototype)\">Python (Ford prototype)</a>,\n",
       " <a href=\"/w/index.php?title=Python&amp;action=edit&amp;section=5\" title=\"Edit section: Weaponry\">edit</a>,\n",
       " <a href=\"/wiki/Python_(missile)\" title=\"Python (missile)\">Python (missile)</a>,\n",
       " <a href=\"/wiki/Python_(nuclear_primary)\" title=\"Python (nuclear primary)\">Python (nuclear primary)</a>,\n",
       " <a href=\"/wiki/Colt_Python\" title=\"Colt Python\">Colt Python</a>,\n",
       " <a href=\"/w/index.php?title=Python&amp;action=edit&amp;section=6\" title=\"Edit section: Other uses\">edit</a>,\n",
       " <a href=\"/wiki/PYTHON\" title=\"PYTHON\">PYTHON</a>,\n",
       " <a href=\"/wiki/Python_(film)\" title=\"Python (film)\"><i>Python</i> (film)</a>,\n",
       " <a href=\"/wiki/Python_(mythology)\" title=\"Python (mythology)\">Python (mythology)</a>,\n",
       " <a href=\"/wiki/Monty_Python\" title=\"Monty Python\">Monty Python</a>,\n",
       " <a href=\"/wiki/Python_(Monty)_Pictures\" title=\"Python (Monty) Pictures\">Python (Monty) Pictures</a>,\n",
       " <a href=\"/w/index.php?title=Python&amp;action=edit&amp;section=7\" title=\"Edit section: See also\">edit</a>,\n",
       " <a href=\"/wiki/Cython\" title=\"Cython\">Cython</a>,\n",
       " <a href=\"/wiki/Pyton\" title=\"Pyton\">Pyton</a>,\n",
       " <a href=\"/wiki/Pithon\" title=\"Pithon\">Pithon</a>,\n",
       " <a class=\"image\" href=\"/wiki/File:Disambig_gray.svg\"><img alt=\"Disambiguation icon\" data-file-height=\"168\" data-file-width=\"220\" decoding=\"async\" height=\"23\" src=\"//upload.wikimedia.org/wikipedia/en/thumb/5/5f/Disambig_gray.svg/30px-Disambig_gray.svg.png\" srcset=\"//upload.wikimedia.org/wikipedia/en/thumb/5/5f/Disambig_gray.svg/45px-Disambig_gray.svg.png 1.5x, //upload.wikimedia.org/wikipedia/en/thumb/5/5f/Disambig_gray.svg/60px-Disambig_gray.svg.png 2x\" width=\"30\"/></a>,\n",
       " <a href=\"/wiki/Help:Disambiguation\" title=\"Help:Disambiguation\">disambiguation</a>,\n",
       " <a class=\"external text\" href=\"https://en.wikipedia.org/w/index.php?title=Special:WhatLinksHere/Python&amp;namespace=0\">internal link</a>,\n",
       " <a dir=\"ltr\" href=\"https://en.wikipedia.org/w/index.php?title=Python&amp;oldid=987482924\">https://en.wikipedia.org/w/index.php?title=Python&amp;oldid=987482924</a>,\n",
       " <a href=\"/wiki/Help:Category\" title=\"Help:Category\">Categories</a>,\n",
       " <a href=\"/wiki/Category:Disambiguation_pages\" title=\"Category:Disambiguation pages\">Disambiguation pages</a>,\n",
       " <a href=\"/wiki/Category:Human_name_disambiguation_pages\" title=\"Category:Human name disambiguation pages\">Human name disambiguation pages</a>,\n",
       " <a href=\"/wiki/Category:Disambiguation_pages_with_given-name-holder_lists\" title=\"Category:Disambiguation pages with given-name-holder lists\">Disambiguation pages with given-name-holder lists</a>,\n",
       " <a href=\"/wiki/Category:Disambiguation_pages_with_short_descriptions\" title=\"Category:Disambiguation pages with short descriptions\">Disambiguation pages with short descriptions</a>,\n",
       " <a href=\"/wiki/Category:Short_description_is_different_from_Wikidata\" title=\"Category:Short description is different from Wikidata\">Short description is different from Wikidata</a>,\n",
       " <a href=\"/wiki/Category:All_article_disambiguation_pages\" title=\"Category:All article disambiguation pages\">All article disambiguation pages</a>,\n",
       " <a href=\"/wiki/Category:All_disambiguation_pages\" title=\"Category:All disambiguation pages\">All disambiguation pages</a>,\n",
       " <a href=\"/wiki/Category:Animal_common_name_disambiguation_pages\" title=\"Category:Animal common name disambiguation pages\">Animal common name disambiguation pages</a>,\n",
       " <a accesskey=\"n\" href=\"/wiki/Special:MyTalk\" title=\"Discussion about edits from this IP address [n]\">Talk</a>,\n",
       " <a accesskey=\"y\" href=\"/wiki/Special:MyContributions\" title=\"A list of edits made from this IP address [y]\">Contributions</a>,\n",
       " <a href=\"/w/index.php?title=Special:CreateAccount&amp;returnto=Python\" title=\"You are encouraged to create an account and log in; however, it is not mandatory\">Create account</a>,\n",
       " <a accesskey=\"o\" href=\"/w/index.php?title=Special:UserLogin&amp;returnto=Python\" title=\"You're encouraged to log in; however, it's not mandatory. [o]\">Log in</a>,\n",
       " <a accesskey=\"c\" href=\"/wiki/Python\" title=\"View the content page [c]\">Article</a>,\n",
       " <a accesskey=\"t\" href=\"/wiki/Talk:Python\" rel=\"discussion\" title=\"Discuss improvements to the content page [t]\">Talk</a>,\n",
       " <a href=\"/wiki/Python\">Read</a>,\n",
       " <a accesskey=\"e\" href=\"/w/index.php?title=Python&amp;action=edit\" title=\"Edit this page [e]\">Edit</a>,\n",
       " <a accesskey=\"h\" href=\"/w/index.php?title=Python&amp;action=history\" title=\"Past revisions of this page [h]\">View history</a>,\n",
       " <a class=\"mw-wiki-logo\" href=\"/wiki/Main_Page\" title=\"Visit the main page\"></a>,\n",
       " <a accesskey=\"z\" href=\"/wiki/Main_Page\" title=\"Visit the main page [z]\">Main page</a>,\n",
       " <a href=\"/wiki/Wikipedia:Contents\" title=\"Guides to browsing Wikipedia\">Contents</a>,\n",
       " <a href=\"/wiki/Portal:Current_events\" title=\"Articles related to current events\">Current events</a>,\n",
       " <a accesskey=\"x\" href=\"/wiki/Special:Random\" title=\"Visit a randomly selected article [x]\">Random article</a>,\n",
       " <a href=\"/wiki/Wikipedia:About\" title=\"Learn about Wikipedia and how it works\">About Wikipedia</a>,\n",
       " <a href=\"//en.wikipedia.org/wiki/Wikipedia:Contact_us\" title=\"How to contact Wikipedia\">Contact us</a>,\n",
       " <a href=\"https://donate.wikimedia.org/wiki/Special:FundraiserRedirector?utm_source=donate&amp;utm_medium=sidebar&amp;utm_campaign=C13_en.wikipedia.org&amp;uselang=en\" title=\"Support us by donating to the Wikimedia Foundation\">Donate</a>,\n",
       " <a href=\"/wiki/Help:Contents\" title=\"Guidance on how to use and edit Wikipedia\">Help</a>,\n",
       " <a href=\"/wiki/Help:Introduction\" title=\"Learn how to edit Wikipedia\">Learn to edit</a>,\n",
       " <a href=\"/wiki/Wikipedia:Community_portal\" title=\"The hub for editors\">Community portal</a>,\n",
       " <a accesskey=\"r\" href=\"/wiki/Special:RecentChanges\" title=\"A list of recent changes to Wikipedia [r]\">Recent changes</a>,\n",
       " <a href=\"/wiki/Wikipedia:File_Upload_Wizard\" title=\"Add images or other media for use on Wikipedia\">Upload file</a>,\n",
       " <a accesskey=\"j\" href=\"/wiki/Special:WhatLinksHere/Python\" title=\"List of all English Wikipedia pages containing links to this page [j]\">What links here</a>,\n",
       " <a accesskey=\"k\" href=\"/wiki/Special:RecentChangesLinked/Python\" rel=\"nofollow\" title=\"Recent changes in pages linked from this page [k]\">Related changes</a>,\n",
       " <a accesskey=\"u\" href=\"/wiki/Wikipedia:File_Upload_Wizard\" title=\"Upload files [u]\">Upload file</a>,\n",
       " <a accesskey=\"q\" href=\"/wiki/Special:SpecialPages\" title=\"A list of all special pages [q]\">Special pages</a>,\n",
       " <a href=\"/w/index.php?title=Python&amp;oldid=987482924\" title=\"Permanent link to this revision of this page\">Permanent link</a>,\n",
       " <a href=\"/w/index.php?title=Python&amp;action=info\" title=\"More information about this page\">Page information</a>,\n",
       " <a href=\"/w/index.php?title=Special:CiteThisPage&amp;page=Python&amp;id=987482924&amp;wpFormIdentifier=titleform\" title=\"Information on how to cite this page\">Cite this page</a>,\n",
       " <a accesskey=\"g\" href=\"https://www.wikidata.org/wiki/Special:EntityPage/Q747452\" title=\"Structured data on this page hosted by Wikidata [g]\">Wikidata item</a>,\n",
       " <a href=\"/w/index.php?title=Special:DownloadAsPdf&amp;page=Python&amp;action=show-download-screen\" title=\"Download this page as a PDF file\">Download as PDF</a>,\n",
       " <a accesskey=\"p\" href=\"/w/index.php?title=Python&amp;printable=yes\" title=\"Printable version of this page [p]\">Printable version</a>,\n",
       " <a href=\"https://commons.wikimedia.org/wiki/Category:Python\" hreflang=\"en\">Wikimedia Commons</a>,\n",
       " <a class=\"interlanguage-link-target\" href=\"https://af.wikipedia.org/wiki/Python\" hreflang=\"af\" lang=\"af\" title=\"Python – Afrikaans\">Afrikaans</a>,\n",
       " <a class=\"interlanguage-link-target\" href=\"https://als.wikipedia.org/wiki/Python\" hreflang=\"gsw\" lang=\"gsw\" title=\"Python – Alemannisch\">Alemannisch</a>,\n",
       " <a class=\"interlanguage-link-target\" href=\"https://ar.wikipedia.org/wiki/%D8%A8%D8%A7%D9%8A%D8%AB%D9%88%D9%86_(%D8%AA%D9%88%D8%B6%D9%8A%D8%AD)\" hreflang=\"ar\" lang=\"ar\" title=\"بايثون (توضيح) – Arabic\">العربية</a>,\n",
       " <a class=\"interlanguage-link-target\" href=\"https://az.wikipedia.org/wiki/Python\" hreflang=\"az\" lang=\"az\" title=\"Python – Azerbaijani\">Azərbaycanca</a>,\n",
       " <a class=\"interlanguage-link-target\" href=\"https://bn.wikipedia.org/wiki/%E0%A6%AA%E0%A6%BE%E0%A6%87%E0%A6%A5%E0%A6%A8_(%E0%A6%A6%E0%A7%8D%E0%A6%AC%E0%A7%8D%E0%A6%AF%E0%A6%B0%E0%A7%8D%E0%A6%A5%E0%A6%A4%E0%A6%BE_%E0%A6%A8%E0%A6%BF%E0%A6%B0%E0%A6%B8%E0%A6%A8)\" hreflang=\"bn\" lang=\"bn\" title=\"পাইথন (দ্ব্যর্থতা নিরসন) – Bangla\">বাংলা</a>,\n",
       " <a class=\"interlanguage-link-target\" href=\"https://be.wikipedia.org/wiki/Python\" hreflang=\"be\" lang=\"be\" title=\"Python – Belarusian\">Беларуская</a>,\n",
       " <a class=\"interlanguage-link-target\" href=\"https://bg.wikipedia.org/wiki/%D0%9F%D0%B8%D1%82%D0%BE%D0%BD_(%D0%BF%D0%BE%D1%8F%D1%81%D0%BD%D0%B5%D0%BD%D0%B8%D0%B5)\" hreflang=\"bg\" lang=\"bg\" title=\"Питон (пояснение) – Bulgarian\">Български</a>,\n",
       " <a class=\"interlanguage-link-target\" href=\"https://cs.wikipedia.org/wiki/Python_(rozcestn%C3%ADk)\" hreflang=\"cs\" lang=\"cs\" title=\"Python (rozcestník) – Czech\">Čeština</a>,\n",
       " <a class=\"interlanguage-link-target\" href=\"https://da.wikipedia.org/wiki/Python\" hreflang=\"da\" lang=\"da\" title=\"Python – Danish\">Dansk</a>,\n",
       " <a class=\"interlanguage-link-target\" href=\"https://de.wikipedia.org/wiki/Python\" hreflang=\"de\" lang=\"de\" title=\"Python – German\">Deutsch</a>,\n",
       " <a class=\"interlanguage-link-target\" href=\"https://eo.wikipedia.org/wiki/Pitono_(apartigilo)\" hreflang=\"eo\" lang=\"eo\" title=\"Pitono (apartigilo) – Esperanto\">Esperanto</a>,\n",
       " <a class=\"interlanguage-link-target\" href=\"https://eu.wikipedia.org/wiki/Python_(argipena)\" hreflang=\"eu\" lang=\"eu\" title=\"Python (argipena) – Basque\">Euskara</a>,\n",
       " <a class=\"interlanguage-link-target\" href=\"https://fa.wikipedia.org/wiki/%D9%BE%D8%A7%DB%8C%D8%AA%D9%88%D9%86\" hreflang=\"fa\" lang=\"fa\" title=\"پایتون – Persian\">فارسی</a>,\n",
       " <a class=\"interlanguage-link-target\" href=\"https://fr.wikipedia.org/wiki/Python\" hreflang=\"fr\" lang=\"fr\" title=\"Python – French\">Français</a>,\n",
       " <a class=\"interlanguage-link-target\" href=\"https://ko.wikipedia.org/wiki/%ED%8C%8C%EC%9D%B4%EC%84%A0\" hreflang=\"ko\" lang=\"ko\" title=\"파이선 – Korean\">한국어</a>,\n",
       " <a class=\"interlanguage-link-target\" href=\"https://hr.wikipedia.org/wiki/Python_(razdvojba)\" hreflang=\"hr\" lang=\"hr\" title=\"Python (razdvojba) – Croatian\">Hrvatski</a>,\n",
       " <a class=\"interlanguage-link-target\" href=\"https://io.wikipedia.org/wiki/Pitono\" hreflang=\"io\" lang=\"io\" title=\"Pitono – Ido\">Ido</a>,\n",
       " <a class=\"interlanguage-link-target\" href=\"https://id.wikipedia.org/wiki/Python\" hreflang=\"id\" lang=\"id\" title=\"Python – Indonesian\">Bahasa Indonesia</a>,\n",
       " <a class=\"interlanguage-link-target\" href=\"https://ia.wikipedia.org/wiki/Python_(disambiguation)\" hreflang=\"ia\" lang=\"ia\" title=\"Python (disambiguation) – Interlingua\">Interlingua</a>,\n",
       " <a class=\"interlanguage-link-target\" href=\"https://is.wikipedia.org/wiki/Python_(a%C3%B0greining)\" hreflang=\"is\" lang=\"is\" title=\"Python (aðgreining) – Icelandic\">Íslenska</a>,\n",
       " <a class=\"interlanguage-link-target\" href=\"https://it.wikipedia.org/wiki/Python_(disambigua)\" hreflang=\"it\" lang=\"it\" title=\"Python (disambigua) – Italian\">Italiano</a>,\n",
       " <a class=\"interlanguage-link-target\" href=\"https://he.wikipedia.org/wiki/%D7%A4%D7%99%D7%AA%D7%95%D7%9F\" hreflang=\"he\" lang=\"he\" title=\"פיתון – Hebrew\">עברית</a>,\n",
       " <a class=\"interlanguage-link-target\" href=\"https://ka.wikipedia.org/wiki/%E1%83%9E%E1%83%98%E1%83%97%E1%83%9D%E1%83%9C%E1%83%98_(%E1%83%9B%E1%83%A0%E1%83%90%E1%83%95%E1%83%90%E1%83%9A%E1%83%9B%E1%83%9C%E1%83%98%E1%83%A8%E1%83%95%E1%83%9C%E1%83%94%E1%83%9A%E1%83%9D%E1%83%95%E1%83%90%E1%83%9C%E1%83%98)\" hreflang=\"ka\" lang=\"ka\" title=\"პითონი (მრავალმნიშვნელოვანი) – Georgian\">ქართული</a>,\n",
       " <a class=\"interlanguage-link-target\" href=\"https://kg.wikipedia.org/wiki/Mboma_(nyoka)\" hreflang=\"kg\" lang=\"kg\" title=\"Mboma (nyoka) – Kongo\">Kongo</a>,\n",
       " <a class=\"interlanguage-link-target\" href=\"https://la.wikipedia.org/wiki/Python_(discretiva)\" hreflang=\"la\" lang=\"la\" title=\"Python (discretiva) – Latin\">Latina</a>,\n",
       " <a class=\"interlanguage-link-target\" href=\"https://lb.wikipedia.org/wiki/Python\" hreflang=\"lb\" lang=\"lb\" title=\"Python – Luxembourgish\">Lëtzebuergesch</a>,\n",
       " <a class=\"interlanguage-link-target\" href=\"https://hu.wikipedia.org/wiki/Python_(egy%C3%A9rtelm%C5%B1s%C3%ADt%C5%91_lap)\" hreflang=\"hu\" lang=\"hu\" title=\"Python (egyértelműsítő lap) – Hungarian\">Magyar</a>,\n",
       " <a class=\"interlanguage-link-target\" href=\"https://mr.wikipedia.org/wiki/%E0%A4%AA%E0%A4%BE%E0%A4%AF%E0%A4%A5%E0%A5%89%E0%A4%A8_(%E0%A4%86%E0%A4%9C%E0%A5%8D%E0%A4%9E%E0%A4%BE%E0%A4%B5%E0%A4%B2%E0%A5%80_%E0%A4%AD%E0%A4%BE%E0%A4%B7%E0%A4%BE)\" hreflang=\"mr\" lang=\"mr\" title=\"पायथॉन (आज्ञावली भाषा) – Marathi\">मराठी</a>,\n",
       " <a class=\"interlanguage-link-target\" href=\"https://nl.wikipedia.org/wiki/Python\" hreflang=\"nl\" lang=\"nl\" title=\"Python – Dutch\">Nederlands</a>,\n",
       " <a class=\"interlanguage-link-target\" href=\"https://ja.wikipedia.org/wiki/%E3%83%91%E3%82%A4%E3%82%BD%E3%83%B3\" hreflang=\"ja\" lang=\"ja\" title=\"パイソン – Japanese\">日本語</a>,\n",
       " <a class=\"interlanguage-link-target\" href=\"https://no.wikipedia.org/wiki/Pyton\" hreflang=\"nb\" lang=\"nb\" title=\"Pyton – Norwegian Bokmål\">Norsk bokmål</a>,\n",
       " <a class=\"interlanguage-link-target\" href=\"https://pl.wikipedia.org/wiki/Pyton\" hreflang=\"pl\" lang=\"pl\" title=\"Pyton – Polish\">Polski</a>,\n",
       " <a class=\"interlanguage-link-target\" href=\"https://pt.wikipedia.org/wiki/Python_(desambigua%C3%A7%C3%A3o)\" hreflang=\"pt\" lang=\"pt\" title=\"Python (desambiguação) – Portuguese\">Português</a>,\n",
       " <a class=\"interlanguage-link-target\" href=\"https://ru.wikipedia.org/wiki/Python_(%D0%B7%D0%BD%D0%B0%D1%87%D0%B5%D0%BD%D0%B8%D1%8F)\" hreflang=\"ru\" lang=\"ru\" title=\"Python (значения) – Russian\">Русский</a>,\n",
       " <a class=\"interlanguage-link-target\" href=\"https://sk.wikipedia.org/wiki/Python\" hreflang=\"sk\" lang=\"sk\" title=\"Python – Slovak\">Slovenčina</a>,\n",
       " <a class=\"interlanguage-link-target\" href=\"https://sr.wikipedia.org/wiki/%D0%9F%D0%B8%D1%82%D0%BE%D0%BD_(%D0%B2%D0%B8%D1%88%D0%B5%D0%B7%D0%BD%D0%B0%D1%87%D0%BD%D0%B0_%D0%BE%D0%B4%D1%80%D0%B5%D0%B4%D0%BD%D0%B8%D1%86%D0%B0)\" hreflang=\"sr\" lang=\"sr\" title=\"Питон (вишезначна одредница) – Serbian\">Српски / srpski</a>,\n",
       " <a class=\"interlanguage-link-target\" href=\"https://sh.wikipedia.org/wiki/Python\" hreflang=\"sh\" lang=\"sh\" title=\"Python – Serbo-Croatian\">Srpskohrvatski / српскохрватски</a>,\n",
       " <a class=\"interlanguage-link-target\" href=\"https://fi.wikipedia.org/wiki/Python\" hreflang=\"fi\" lang=\"fi\" title=\"Python – Finnish\">Suomi</a>,\n",
       " <a class=\"interlanguage-link-target\" href=\"https://sv.wikipedia.org/wiki/Pyton\" hreflang=\"sv\" lang=\"sv\" title=\"Pyton – Swedish\">Svenska</a>,\n",
       " <a class=\"interlanguage-link-target\" href=\"https://th.wikipedia.org/wiki/%E0%B9%84%E0%B8%9E%E0%B8%97%E0%B8%AD%E0%B8%99\" hreflang=\"th\" lang=\"th\" title=\"ไพทอน – Thai\">ไทย</a>,\n",
       " <a class=\"interlanguage-link-target\" href=\"https://tr.wikipedia.org/wiki/Python\" hreflang=\"tr\" lang=\"tr\" title=\"Python – Turkish\">Türkçe</a>,\n",
       " <a class=\"interlanguage-link-target\" href=\"https://uk.wikipedia.org/wiki/%D0%9F%D1%96%D1%84%D0%BE%D0%BD\" hreflang=\"uk\" lang=\"uk\" title=\"Піфон – Ukrainian\">Українська</a>,\n",
       " <a class=\"interlanguage-link-target\" href=\"https://ur.wikipedia.org/wiki/%D9%BE%D8%A7%D8%A6%DB%8C%D8%AA%DA%BE%D9%88%D9%86\" hreflang=\"ur\" lang=\"ur\" title=\"پائیتھون – Urdu\">اردو</a>,\n",
       " <a class=\"interlanguage-link-target\" href=\"https://vi.wikipedia.org/wiki/Python\" hreflang=\"vi\" lang=\"vi\" title=\"Python – Vietnamese\">Tiếng Việt</a>,\n",
       " <a class=\"interlanguage-link-target\" href=\"https://zh.wikipedia.org/wiki/Python_(%E6%B6%88%E6%AD%A7%E4%B9%89)\" hreflang=\"zh\" lang=\"zh\" title=\"Python (消歧义) – Chinese\">中文</a>,\n",
       " <a class=\"wbc-editpage\" href=\"https://www.wikidata.org/wiki/Special:EntityPage/Q747452#sitelinks-wikipedia\" title=\"Edit interlanguage links\">Edit links</a>,\n",
       " <a href=\"//en.wikipedia.org/wiki/Wikipedia:Text_of_Creative_Commons_Attribution-ShareAlike_3.0_Unported_License\" rel=\"license\">Creative Commons Attribution-ShareAlike License</a>,\n",
       " <a href=\"//creativecommons.org/licenses/by-sa/3.0/\" rel=\"license\" style=\"display:none;\"></a>,\n",
       " <a href=\"//foundation.wikimedia.org/wiki/Terms_of_Use\">Terms of Use</a>,\n",
       " <a href=\"//foundation.wikimedia.org/wiki/Privacy_policy\">Privacy Policy</a>,\n",
       " <a href=\"//www.wikimediafoundation.org/\">Wikimedia Foundation, Inc.</a>,\n",
       " <a class=\"extiw\" href=\"https://foundation.wikimedia.org/wiki/Privacy_policy\" title=\"wmf:Privacy policy\">Privacy policy</a>,\n",
       " <a href=\"/wiki/Wikipedia:About\" title=\"Wikipedia:About\">About Wikipedia</a>,\n",
       " <a href=\"/wiki/Wikipedia:General_disclaimer\" title=\"Wikipedia:General disclaimer\">Disclaimers</a>,\n",
       " <a href=\"//en.wikipedia.org/wiki/Wikipedia:Contact_us\">Contact Wikipedia</a>,\n",
       " <a class=\"noprint stopMobileRedirectToggle\" href=\"//en.m.wikipedia.org/w/index.php?title=Python&amp;mobileaction=toggle_view_mobile\">Mobile view</a>,\n",
       " <a href=\"https://www.mediawiki.org/wiki/Special:MyLanguage/How_to_contribute\">Developers</a>,\n",
       " <a href=\"https://stats.wikimedia.org/#/en.wikipedia.org\">Statistics</a>,\n",
       " <a href=\"https://foundation.wikimedia.org/wiki/Cookie_statement\">Cookie statement</a>,\n",
       " <a href=\"https://wikimediafoundation.org/\"><img alt=\"Wikimedia Foundation\" height=\"31\" loading=\"lazy\" src=\"/static/images/footer/wikimedia-button.png\" srcset=\"/static/images/footer/wikimedia-button-1.5x.png 1.5x, /static/images/footer/wikimedia-button-2x.png 2x\" width=\"88\"/></a>,\n",
       " <a href=\"https://www.mediawiki.org/\"><img alt=\"Powered by MediaWiki\" height=\"31\" loading=\"lazy\" src=\"/static/images/footer/poweredby_mediawiki_88x31.png\" srcset=\"/static/images/footer/poweredby_mediawiki_132x47.png 1.5x, /static/images/footer/poweredby_mediawiki_176x62.png 2x\" width=\"88\"/></a>]"
      ]
     },
     "execution_count": 60,
     "metadata": {},
     "output_type": "execute_result"
    }
   ],
   "source": [
    "soup.select(\"a\",{\"href\":\"/wiki/Pythons\"})"
   ]
  },
  {
   "cell_type": "code",
   "execution_count": 61,
   "metadata": {},
   "outputs": [
    {
     "data": {
      "text/plain": [
       "'/wiki/Pythons'"
      ]
     },
     "execution_count": 61,
     "metadata": {},
     "output_type": "execute_result"
    }
   ],
   "source": [
    "#mw-content-text > div.mw-parser-output > ul:nth-child(7) > li:nth-child(1) > a\n",
    "soup.select(\"#mw-content-text > div.mw-parser-output > ul > li > a\")[0][\"href\"]\n"
   ]
  },
  {
   "cell_type": "code",
   "execution_count": 67,
   "metadata": {},
   "outputs": [
    {
     "data": {
      "text/plain": [
       "['/wiki/Pythons',\n",
       " '/wiki/Python_(programming_language)',\n",
       " '/wiki/CMU_Common_Lisp',\n",
       " '/wiki/PERQ#PERQ_3',\n",
       " '/wiki/Python_of_Aenus',\n",
       " '/wiki/Python_(painter)',\n",
       " '/wiki/Python_of_Byzantium',\n",
       " '/wiki/Python_of_Catana',\n",
       " '/wiki/Python_Anghelo',\n",
       " '/wiki/Python_(Efteling)',\n",
       " '/wiki/Python_(Busch_Gardens_Tampa_Bay)',\n",
       " '/wiki/Python_(Coney_Island,_Cincinnati,_Ohio)',\n",
       " '/wiki/Python_(automobile_maker)',\n",
       " '/wiki/Python_(Ford_prototype)',\n",
       " '/wiki/Python_(missile)',\n",
       " '/wiki/Python_(nuclear_primary)',\n",
       " '/wiki/Colt_Python',\n",
       " '/wiki/PYTHON',\n",
       " '/wiki/Python_(film)',\n",
       " '/wiki/Python_(mythology)',\n",
       " '/wiki/Monty_Python',\n",
       " '/wiki/Cython',\n",
       " '/wiki/Pithon']"
      ]
     },
     "execution_count": 67,
     "metadata": {},
     "output_type": "execute_result"
    }
   ],
   "source": [
    "lista=[]\n",
    "\n",
    "num_iter = len(soup.select(\"#mw-content-text > div.mw-parser-output > ul > li > a\"))\n",
    "\n",
    "for i in range(num_iter):\n",
    "    lista.append(soup.select(\"#mw-content-text > div.mw-parser-output > ul > li > a\")[i][\"href\"])\n",
    "lista"
   ]
  },
  {
   "cell_type": "code",
   "execution_count": 88,
   "metadata": {},
   "outputs": [
    {
     "data": {
      "text/plain": [
       "200"
      ]
     },
     "execution_count": 88,
     "metadata": {},
     "output_type": "execute_result"
    }
   ],
   "source": [
    "# 2. Find the number of titles that have changed in the United States Code since its last release \n",
    "# point: url = 'http://uscode.house.gov/download/download.shtml'\n",
    "\n",
    "# Getting the html of the webpage\n",
    "\n",
    "response = requests.get('https://uscode.house.gov/download/download.shtml')\n",
    "response.status_code"
   ]
  },
  {
   "cell_type": "code",
   "execution_count": 89,
   "metadata": {},
   "outputs": [],
   "source": [
    "# Parsing the html code\n",
    "\n",
    "soup = BeautifulSoup(response.content, \"html.parser\")"
   ]
  },
  {
   "cell_type": "code",
   "execution_count": 120,
   "metadata": {},
   "outputs": [],
   "source": [
    "#soup.find_all(\"div\",{\"class\":\"usctitle\"},{\"id\":\"us/usc/t1\"})\n",
    "#soup.find_all(\"span\",{\"class\":\"footnote\"})\n",
    "\n",
    "#content > div > div > div.uscitemlist > div:nth-child(4)"
   ]
  },
  {
   "cell_type": "code",
   "execution_count": 163,
   "metadata": {},
   "outputs": [
    {
     "data": {
      "text/plain": [
       "['usctitle']"
      ]
     },
     "execution_count": 163,
     "metadata": {},
     "output_type": "execute_result"
    }
   ],
   "source": [
    "soup.select(\"#content > div > div > div.uscitemlist > div > div \")[0][\"class\"]"
   ]
  },
  {
   "cell_type": "code",
   "execution_count": 164,
   "metadata": {},
   "outputs": [
    {
     "data": {
      "text/plain": [
       "200"
      ]
     },
     "execution_count": 164,
     "metadata": {},
     "output_type": "execute_result"
    }
   ],
   "source": [
    "# 3. Most wanted fugitives\n",
    "\n",
    "response = requests.get('https://www.fbi.gov/wanted/topten')\n",
    "response.status_code"
   ]
  },
  {
   "cell_type": "code",
   "execution_count": 165,
   "metadata": {},
   "outputs": [],
   "source": [
    "soup = BeautifulSoup(response.content, \"html.parser\")"
   ]
  },
  {
   "cell_type": "code",
   "execution_count": 168,
   "metadata": {},
   "outputs": [
    {
     "data": {
      "text/plain": [
       "'https://www.fbi.gov/wanted/topten/bhadreshkumar-chetanbhai-patel'"
      ]
     },
     "execution_count": 168,
     "metadata": {},
     "output_type": "execute_result"
    }
   ],
   "source": [
    "#query-results-0f737222c5054a81a120bce207b0446a > ul > li:nth-child(1) > h3 > a\n",
    "\n",
    "soup.select(\"#query-results-0f737222c5054a81a120bce207b0446a > ul > li > h3 > a \")[0][\"href\"]"
   ]
  },
  {
   "cell_type": "code",
   "execution_count": 169,
   "metadata": {},
   "outputs": [
    {
     "data": {
      "text/plain": [
       "['https://www.fbi.gov/wanted/topten/bhadreshkumar-chetanbhai-patel',\n",
       " 'https://www.fbi.gov/wanted/topten/alejandro-castillo',\n",
       " 'https://www.fbi.gov/wanted/topten/arnoldo-jimenez',\n",
       " 'https://www.fbi.gov/wanted/topten/jason-derek-brown',\n",
       " 'https://www.fbi.gov/wanted/topten/alexis-flores',\n",
       " 'https://www.fbi.gov/wanted/topten/jose-rodolfo-villarreal-hernandez',\n",
       " 'https://www.fbi.gov/wanted/topten/eugene-palmer',\n",
       " 'https://www.fbi.gov/wanted/topten/rafael-caro-quintero',\n",
       " 'https://www.fbi.gov/wanted/topten/robert-william-fisher',\n",
       " 'https://www.fbi.gov/wanted/topten/yaser-abdel-said']"
      ]
     },
     "execution_count": 169,
     "metadata": {},
     "output_type": "execute_result"
    }
   ],
   "source": [
    "most=[]\n",
    "\n",
    "num_iter = len(soup.select(\"#query-results-0f737222c5054a81a120bce207b0446a > ul > li > h3 > a \"))\n",
    "\n",
    "for i in range(num_iter):\n",
    "    most.append(soup.select(\"#query-results-0f737222c5054a81a120bce207b0446a > ul > li > h3 > a \")[i][\"href\"])\n",
    "most"
   ]
  },
  {
   "cell_type": "code",
   "execution_count": 177,
   "metadata": {},
   "outputs": [
    {
     "data": {
      "text/plain": [
       "200"
      ]
     },
     "execution_count": 177,
     "metadata": {},
     "output_type": "execute_result"
    }
   ],
   "source": [
    "# 4. 20 latest earthquakes\n",
    "\n",
    "response = requests.get('https://www.emsc-csem.org/#2')\n",
    "response.status_code"
   ]
  },
  {
   "cell_type": "code",
   "execution_count": 178,
   "metadata": {},
   "outputs": [],
   "source": [
    "soup = BeautifulSoup(response.content, \"html.parser\")"
   ]
  },
  {
   "cell_type": "code",
   "execution_count": 184,
   "metadata": {},
   "outputs": [
    {
     "data": {
      "text/plain": [
       "'923723'"
      ]
     },
     "execution_count": 184,
     "metadata": {},
     "output_type": "execute_result"
    }
   ],
   "source": [
    "soup.select(\"tbody>tr\")[0][\"id\"]"
   ]
  },
  {
   "cell_type": "code",
   "execution_count": 195,
   "metadata": {},
   "outputs": [
    {
     "data": {
      "text/plain": [
       "200"
      ]
     },
     "execution_count": 195,
     "metadata": {},
     "output_type": "execute_result"
    }
   ],
   "source": [
    "# 4. List all language names and number of related articles in the order they appear\n",
    "\n",
    "response = requests.get('https://www.wikidata.org/wiki/Q2')\n",
    "response.status_code"
   ]
  },
  {
   "cell_type": "code",
   "execution_count": 196,
   "metadata": {},
   "outputs": [],
   "source": [
    "soup = BeautifulSoup(response.content, \"html.parser\")"
   ]
  },
  {
   "cell_type": "code",
   "execution_count": 203,
   "metadata": {},
   "outputs": [
    {
     "data": {
      "text/plain": [
       "['wikibase-entitytermsforlanguageview-language']"
      ]
     },
     "execution_count": 203,
     "metadata": {},
     "output_type": "execute_result"
    }
   ],
   "source": [
    "soup.select(\"#wb-item-Q2 > div > div > div> table > tbody > tr > th\")[0][\"class\"]\n",
    "#wb-item-Q2 > div.wikibase-entityview-main > div.wikibase-entitytermsview > div.wikibase-entitytermsview-entitytermsforlanguagelistview > table > tbody > tr.wikibase-entitytermsforlanguageview.wikibase-entitytermsforlanguageview-en.listview-item"
   ]
  },
  {
   "cell_type": "code",
   "execution_count": 204,
   "metadata": {},
   "outputs": [
    {
     "data": {
      "text/plain": [
       "200"
      ]
     },
     "execution_count": 204,
     "metadata": {},
     "output_type": "execute_result"
    }
   ],
   "source": [
    "# 5. A list with the different kind of datasets available \n",
    "\n",
    "response = requests.get('https://ckan.publishing.service.gov.uk/dataset')\n",
    "response.status_code"
   ]
  },
  {
   "cell_type": "code",
   "execution_count": 205,
   "metadata": {},
   "outputs": [],
   "source": [
    "soup = BeautifulSoup(response.content, \"html.parser\")"
   ]
  },
  {
   "cell_type": "code",
   "execution_count": 207,
   "metadata": {},
   "outputs": [
    {
     "data": {
      "text/plain": [
       "'/dataset/2018-traffic-count-data3'"
      ]
     },
     "execution_count": 207,
     "metadata": {},
     "output_type": "execute_result"
    }
   ],
   "source": [
    "soup.select(\"#content > div > div > section > div > ul > li > div > h3 > a\")[0][\"href\"]\n",
    "#content > div.row.wrapper > div > section:nth-child(1) > div.module-content > ul > li:nth-child(1)\n",
    "#content > div.row.wrapper > div > section:nth-child(1) > div.module-content > ul > li:nth-child(1) > div > h3 > a"
   ]
  },
  {
   "cell_type": "code",
   "execution_count": 211,
   "metadata": {},
   "outputs": [
    {
     "data": {
      "text/plain": [
       "['/dataset/2018-traffic-count-data3',\n",
       " '/dataset/cm3manningham-lane7',\n",
       " '/dataset/cm2keighley7',\n",
       " '/dataset/cm5thornton-road7',\n",
       " '/dataset/cm7rook-lane7',\n",
       " '/dataset/cm8tong-street7',\n",
       " '/dataset/cm4manchester-road-mayo-avenue7',\n",
       " '/dataset/cm6shipley-airedale-road7',\n",
       " '/dataset/twbc-open-data-layers-web-map1',\n",
       " '/dataset/tunbridge-wells-open-data-transparency-asset-management-plan-2020-to-213',\n",
       " '/dataset/tunbridge-wells-open-data-transparency-revenue-codebook-2020-to-20213',\n",
       " '/dataset/tunbridge-wells-open-data-transparency-carbon-management-plan-2010-to-20153',\n",
       " '/dataset/tunbridge-wells-open-data-transparency-annual-audit-letter-20193',\n",
       " '/dataset/tunbridge-wells-open-data-transparency-community-grants-2017-to-20184',\n",
       " '/dataset/tunbridge-wells-open-data-transparency-community-grants-2016-to-20174',\n",
       " '/dataset/tunbridge-wells-open-data-transparency-community-grants-2015-to-20164',\n",
       " '/dataset/tunbridge-wells-open-data-transparency-community-grants-2014-to-20154',\n",
       " '/dataset/tunbridge-wells-open-data-transparency-community-grants-2013-to-20144',\n",
       " '/dataset/twbc-sfra-appendices3',\n",
       " '/dataset/tunbridge-wells-open-data-local-authority-land-asset-register-investment-20203']"
      ]
     },
     "execution_count": 211,
     "metadata": {},
     "output_type": "execute_result"
    }
   ],
   "source": [
    "dataset=[]\n",
    "\n",
    "num_iter = len(soup.select(\"#content > div > div > section > div > ul > li > div > h3 > a\"))\n",
    "\n",
    "for i in range(num_iter):\n",
    "    dataset.append(soup.select(\"#content > div > div > section > div > ul > li > div > h3 > a\")[i][\"href\"])\n",
    "dataset"
   ]
  },
  {
   "cell_type": "code",
   "execution_count": 212,
   "metadata": {},
   "outputs": [
    {
     "data": {
      "text/plain": [
       "200"
      ]
     },
     "execution_count": 212,
     "metadata": {},
     "output_type": "execute_result"
    }
   ],
   "source": [
    "# Display the top 10 languages by number of native speakers stored in a pandas dataframe \n",
    "\n",
    "response = requests.get('https://en.wikipedia.org/wiki/List_of_languages_by_number_of_native_speakers')\n",
    "response.status_code"
   ]
  },
  {
   "cell_type": "code",
   "execution_count": 213,
   "metadata": {},
   "outputs": [],
   "source": [
    "soup = BeautifulSoup(response.content, \"html.parser\")"
   ]
  },
  {
   "cell_type": "code",
   "execution_count": 215,
   "metadata": {},
   "outputs": [
    {
     "data": {
      "text/plain": [
       "'/wiki/Mandarin_Chinese'"
      ]
     },
     "execution_count": 215,
     "metadata": {},
     "output_type": "execute_result"
    }
   ],
   "source": [
    "soup.select(\"#mw-content-text > div > table > tbody > tr > td > a\")[0][\"href\"]\n",
    "#mw-content-text > div.mw-parser-output > table:nth-child(13) > tbody > tr:nth-child(1) > td:nth-child(2) > a"
   ]
  },
  {
   "cell_type": "code",
   "execution_count": 223,
   "metadata": {},
   "outputs": [
    {
     "data": {
      "text/plain": [
       "<td>918\n",
       "</td>"
      ]
     },
     "execution_count": 223,
     "metadata": {},
     "output_type": "execute_result"
    }
   ],
   "source": [
    "soup.select(\"#mw-content-text > div > table > tbody > tr > td\")[2]\n",
    "#mw-content-text > div.mw-parser-output > table:nth-child(13) > tbody > tr:nth-child(1) > td:nth-child(3)"
   ]
  },
  {
   "cell_type": "code",
   "execution_count": 230,
   "metadata": {},
   "outputs": [
    {
     "data": {
      "text/plain": [
       "['/wiki/Mandarin_Chinese',\n",
       " '/wiki/Sino-Tibetan_languages',\n",
       " '/wiki/Varieties_of_Chinese',\n",
       " '/wiki/Spanish_language',\n",
       " '/wiki/Indo-European_languages',\n",
       " '/wiki/Romance_languages',\n",
       " '/wiki/English_language',\n",
       " '/wiki/Indo-European_languages',\n",
       " '/wiki/Germanic_languages',\n",
       " '/wiki/Hindi',\n",
       " '/wiki/Hindustani_language',\n",
       " '/wiki/Indo-European_languages',\n",
       " '/wiki/Indo-Aryan_languages',\n",
       " '/wiki/Bengali_language',\n",
       " '/wiki/Indo-European_languages',\n",
       " '/wiki/Indo-Aryan_languages',\n",
       " '/wiki/Portuguese_language',\n",
       " '/wiki/Indo-European_languages',\n",
       " '/wiki/Romance_languages',\n",
       " '/wiki/Russian_language',\n",
       " '/wiki/Indo-European_languages',\n",
       " '/wiki/Balto-Slavic_languages',\n",
       " '/wiki/Japanese_language',\n",
       " '/wiki/Japonic_languages',\n",
       " '/wiki/Japanese_language',\n",
       " '/wiki/Punjabi_language',\n",
       " '/wiki/Indo-European_languages',\n",
       " '/wiki/Indo-Aryan_languages',\n",
       " '/wiki/Marathi_language',\n",
       " '/wiki/Indo-European_languages',\n",
       " '/wiki/Indo-Aryan_languages',\n",
       " '/wiki/Telugu_language',\n",
       " '/wiki/Dravidian_languages',\n",
       " '/wiki/Dravidian_languages#South-Central_Dravidian',\n",
       " '/wiki/Wu_Chinese',\n",
       " '/wiki/Sino-Tibetan_languages',\n",
       " '/wiki/Varieties_of_Chinese',\n",
       " '/wiki/Turkish_language',\n",
       " '/wiki/Turkic_languages',\n",
       " '/wiki/Oghuz_languages',\n",
       " '/wiki/Korean_language',\n",
       " '/wiki/Koreanic_languages',\n",
       " '/wiki/Language_isolate',\n",
       " '/wiki/French_language',\n",
       " '/wiki/Indo-European_languages',\n",
       " '/wiki/Romance_languages',\n",
       " '/wiki/German_language',\n",
       " '/wiki/Indo-European_languages',\n",
       " '/wiki/Germanic_languages',\n",
       " '/wiki/Vietnamese_language',\n",
       " '/wiki/Austroasiatic_languages',\n",
       " '/wiki/Vietic_languages',\n",
       " '/wiki/Tamil_language',\n",
       " '/wiki/Dravidian_languages',\n",
       " '/wiki/Dravidian_languages#South_Dravidian',\n",
       " '/wiki/Yue_Chinese',\n",
       " '/wiki/Sino-Tibetan_languages',\n",
       " '/wiki/Varieties_of_Chinese',\n",
       " '/wiki/Urdu',\n",
       " '/wiki/Hindustani_language',\n",
       " '/wiki/Indo-European_languages',\n",
       " '/wiki/Indo-Aryan_languages',\n",
       " '/wiki/Javanese_language',\n",
       " '/wiki/Austronesian_languages',\n",
       " '/wiki/Malayo-Polynesian_languages',\n",
       " '/wiki/Italian_language',\n",
       " '/wiki/Indo-European_languages',\n",
       " '/wiki/Romance_languages',\n",
       " '/wiki/Egyptian_Arabic',\n",
       " '/wiki/Afroasiatic_languages',\n",
       " '/wiki/Semitic_languages',\n",
       " '/wiki/Gujarati_language',\n",
       " '/wiki/Indo-European_languages',\n",
       " '/wiki/Indo-Aryan_languages',\n",
       " '/wiki/Western_Persian',\n",
       " '/wiki/Indo-European_languages',\n",
       " '/wiki/Iranian_languages',\n",
       " '/wiki/Bhojpuri_language',\n",
       " '/wiki/Indo-European_languages',\n",
       " '/wiki/Indo-Aryan_languages',\n",
       " '/wiki/Southern_Min',\n",
       " '/wiki/Sino-Tibetan_languages',\n",
       " '/wiki/Varieties_of_Chinese',\n",
       " '/wiki/Hakka_Chinese',\n",
       " '/wiki/Sino-Tibetan_languages',\n",
       " '/wiki/Varieties_of_Chinese',\n",
       " '/wiki/Jin_Chinese',\n",
       " '/wiki/Sino-Tibetan_languages',\n",
       " '/wiki/Varieties_of_Chinese',\n",
       " '/wiki/Hausa_language',\n",
       " '/wiki/Afroasiatic_languages',\n",
       " '/wiki/Chadic_languages',\n",
       " '/wiki/Kannada',\n",
       " '/wiki/Dravidian_languages',\n",
       " '/wiki/Dravidian_languages#South_Dravidian',\n",
       " '/wiki/Indonesian_language',\n",
       " '/wiki/Austronesian_languages',\n",
       " '/wiki/Malayo-Polynesian_languages',\n",
       " '/wiki/Polish_language',\n",
       " '/wiki/Indo-European_languages',\n",
       " '/wiki/Balto-Slavic_languages',\n",
       " '/wiki/Yoruba_language',\n",
       " '/wiki/Niger%E2%80%93Congo_languages',\n",
       " '/wiki/Volta%E2%80%93Niger_languages',\n",
       " '/wiki/Xiang_Chinese',\n",
       " '/wiki/Sino-Tibetan_languages',\n",
       " '/wiki/Varieties_of_Chinese',\n",
       " '/wiki/Malayalam',\n",
       " '/wiki/Dravidian_languages',\n",
       " '/wiki/Dravidian_languages#South_Dravidian',\n",
       " '/wiki/Odia_language',\n",
       " '/wiki/Indo-European_languages',\n",
       " '/wiki/Indo-Aryan_languages',\n",
       " '/wiki/Maithili_language',\n",
       " '/wiki/Indo-European_languages',\n",
       " '/wiki/Indo-Aryan_languages',\n",
       " '/wiki/Burmese_language',\n",
       " '/wiki/Sino-Tibetan_languages',\n",
       " '/wiki/Lolo-Burmese_languages',\n",
       " '/wiki/Punjabi_language',\n",
       " '/wiki/Indo-European_languages',\n",
       " '/wiki/Indo-Aryan_languages',\n",
       " '/wiki/Sundanese_language',\n",
       " '/wiki/Austronesian_languages',\n",
       " '/wiki/Malayo-Polynesian_languages',\n",
       " '/wiki/Sudanese_Arabic',\n",
       " '/wiki/Afroasiatic_languages',\n",
       " '/wiki/Semitic_languages',\n",
       " '/wiki/Algerian_Arabic',\n",
       " '/wiki/Afroasiatic_languages',\n",
       " '/wiki/Semitic_languages',\n",
       " '/wiki/Moroccan_Arabic',\n",
       " '/wiki/Afroasiatic_languages',\n",
       " '/wiki/Semitic_languages',\n",
       " '/wiki/Ukrainian_language',\n",
       " '/wiki/Indo-European_languages',\n",
       " '/wiki/Balto-Slavic_languages',\n",
       " '/wiki/Igbo_language',\n",
       " '/wiki/Niger%E2%80%93Congo_languages',\n",
       " '/wiki/Volta%E2%80%93Niger_languages',\n",
       " '/wiki/Uzbek_language',\n",
       " '/wiki/Turkic_languages',\n",
       " '/wiki/Karluk_languages',\n",
       " '/wiki/Sindhi_language',\n",
       " '/wiki/Indo-European_languages',\n",
       " '/wiki/Indo-Aryan_languages',\n",
       " '/wiki/North_Levantine_Arabic',\n",
       " '/wiki/Afroasiatic_languages',\n",
       " '/wiki/Semitic_languages',\n",
       " '/wiki/Romanian_language',\n",
       " '/wiki/Indo-European_languages',\n",
       " '/wiki/Romance_languages',\n",
       " '/wiki/Tagalog_language',\n",
       " '/wiki/Austronesian_languages',\n",
       " '/wiki/Malayo-Polynesian_languages',\n",
       " '/wiki/Dutch_language',\n",
       " '/wiki/Indo-European_languages',\n",
       " '/wiki/Germanic_languages',\n",
       " '/wiki/Sa%CA%BDidi_Arabic',\n",
       " '/wiki/Afroasiatic_languages',\n",
       " '/wiki/Semitic_languages',\n",
       " '/wiki/Gan_Chinese',\n",
       " '/wiki/Sino-Tibetan_languages',\n",
       " '/wiki/Varieties_of_Chinese',\n",
       " '/wiki/Amharic',\n",
       " '/wiki/Afroasiatic_languages',\n",
       " '/wiki/Semitic_languages',\n",
       " '/wiki/Northern_Pashto',\n",
       " '/wiki/Indo-European_languages',\n",
       " '/wiki/Iranian_languages',\n",
       " '/wiki/Magahi_language',\n",
       " '/wiki/Indo-European_languages',\n",
       " '/wiki/Indo-Aryan_languages',\n",
       " '/wiki/Thai_language',\n",
       " '/wiki/Kra%E2%80%93Dai_languages',\n",
       " '/wiki/Tai_languages',\n",
       " '/wiki/Saraiki_language',\n",
       " '/wiki/Indo-European_languages',\n",
       " '/wiki/Indo-Aryan_languages',\n",
       " '/wiki/Khmer_language',\n",
       " '/wiki/Austroasiatic_languages',\n",
       " '/wiki/Khmer_language',\n",
       " '/wiki/Chhattisgarhi_language',\n",
       " '/wiki/Indo-European_languages',\n",
       " '/wiki/Indo-Aryan_languages',\n",
       " '/wiki/Somali_language',\n",
       " '/wiki/Afroasiatic_languages',\n",
       " '/wiki/Cushitic_languages',\n",
       " '/wiki/Malaysian_language',\n",
       " '/wiki/Malay_language',\n",
       " '/wiki/Austronesian_languages',\n",
       " '/wiki/Malayo-Polynesian_languages',\n",
       " '/wiki/Cebuano_language',\n",
       " '/wiki/Austronesian_languages',\n",
       " '/wiki/Malayo-Polynesian_languages',\n",
       " '/wiki/Nepali_language',\n",
       " '/wiki/Indo-European_languages',\n",
       " '/wiki/Indo-Aryan_languages',\n",
       " '/wiki/Mesopotamian_Arabic',\n",
       " '/wiki/Afroasiatic_languages',\n",
       " '/wiki/Semitic_languages',\n",
       " '/wiki/Assamese_language',\n",
       " '/wiki/Indo-European_languages',\n",
       " '/wiki/Indo-Aryan_languages',\n",
       " '/wiki/Sinhala_language',\n",
       " '/wiki/Indo-European_languages',\n",
       " '/wiki/Indo-Aryan_languages',\n",
       " '/wiki/Northern_Kurdish',\n",
       " '/wiki/Indo-European_languages',\n",
       " '/wiki/Iranian_languages',\n",
       " '/wiki/Hejazi_Arabic',\n",
       " '/wiki/Afroasiatic_languages',\n",
       " '/wiki/Semitic_languages',\n",
       " '/wiki/Fula_language',\n",
       " '/wiki/Niger%E2%80%93Congo_languages',\n",
       " '/wiki/Senegambian_languages',\n",
       " '/wiki/Bavarian_language',\n",
       " '/wiki/Indo-European_languages',\n",
       " '/wiki/Germanic_languages',\n",
       " '/wiki/Azerbaijani_language#South_Azerbaijani',\n",
       " '/wiki/Turkic_languages',\n",
       " '/wiki/Oghuz_languages',\n",
       " '/wiki/Greek_language',\n",
       " '/wiki/Indo-European_languages',\n",
       " '/wiki/Hellenic_languages',\n",
       " '/wiki/Chittagonian_language',\n",
       " '/wiki/Indo-European_languages',\n",
       " '/wiki/Indo-Aryan_languages',\n",
       " '/wiki/Kazakh_language',\n",
       " '/wiki/Turkic_languages',\n",
       " '/wiki/Kipchak_languages',\n",
       " '/wiki/Dakhini',\n",
       " '/wiki/Indo-European_languages',\n",
       " '/wiki/Indo-Aryan_languages',\n",
       " '/wiki/Hungarian_language',\n",
       " '/wiki/Uralic_languages',\n",
       " '/wiki/Ugric_languages',\n",
       " '/wiki/Kinyarwanda',\n",
       " '/wiki/Niger%E2%80%93Congo_languages',\n",
       " '/wiki/Bantu_languages',\n",
       " '/wiki/Zulu_language',\n",
       " '/wiki/Niger%E2%80%93Congo_languages',\n",
       " '/wiki/Bantu_languages',\n",
       " '/wiki/South_Levantine_Arabic',\n",
       " '/wiki/Afroasiatic_languages',\n",
       " '/wiki/Semitic_languages',\n",
       " '/wiki/Tunisian_Arabic',\n",
       " '/wiki/Afroasiatic_languages',\n",
       " '/wiki/Semitic_languages',\n",
       " '/wiki/San%CA%BDani_Arabic',\n",
       " '/wiki/Afroasiatic_languages',\n",
       " '/wiki/Semitic_languages',\n",
       " '/wiki/Northern_Min',\n",
       " '/wiki/Sino-Tibetan_languages',\n",
       " '/wiki/Varieties_of_Chinese',\n",
       " '/wiki/Southern_Pashto',\n",
       " '/wiki/Indo-European_languages',\n",
       " '/wiki/Iranian_languages',\n",
       " '/wiki/Kirundi',\n",
       " '/wiki/Niger%E2%80%93Congo_languages',\n",
       " '/wiki/Bantu_languages',\n",
       " '/wiki/Czech_language',\n",
       " '/wiki/Indo-European_languages',\n",
       " '/wiki/Balto-Slavic_languages',\n",
       " '/wiki/Ta%CA%BDizzi-Adeni_Arabic',\n",
       " '/wiki/Afroasiatic_languages',\n",
       " '/wiki/Semitic_languages',\n",
       " '/wiki/Uyghur_language',\n",
       " '/wiki/Turkic_languages',\n",
       " '/wiki/Karluk_languages',\n",
       " '/wiki/Eastern_Min',\n",
       " '/wiki/Sino-Tibetan_languages',\n",
       " '/wiki/Varieties_of_Chinese',\n",
       " '/wiki/Sylheti_language',\n",
       " '/wiki/Indo-European_languages',\n",
       " '/wiki/Indo-Aryan_languages',\n",
       " '/wiki/Mandarin_Chinese',\n",
       " '/wiki/Spanish_language',\n",
       " '/wiki/English_language',\n",
       " '/wiki/Hindi_language',\n",
       " '/wiki/Arabic_language',\n",
       " '/wiki/Portuguese_language',\n",
       " '/wiki/Bengali_language',\n",
       " '/wiki/Russian_language',\n",
       " '/wiki/Japanese_language',\n",
       " '/wiki/Punjabi_language',\n",
       " '/wiki/German_language',\n",
       " '/wiki/Javanese_language',\n",
       " '/wiki/Wu_Chinese',\n",
       " '/wiki/Shanghainese',\n",
       " '/wiki/Malay_language',\n",
       " '/wiki/Indonesian_language',\n",
       " '/wiki/Malaysian_language',\n",
       " '/wiki/Telugu_language',\n",
       " '/wiki/Vietnamese_language',\n",
       " '/wiki/Korean_language',\n",
       " '/wiki/French_language',\n",
       " '/wiki/Marathi_language',\n",
       " '/wiki/Tamil_language',\n",
       " '/wiki/Urdu',\n",
       " '/wiki/Turkish_language',\n",
       " '/wiki/Italian_language',\n",
       " '/wiki/Yue_Chinese',\n",
       " '/wiki/Cantonese',\n",
       " '/wiki/Thai_language',\n",
       " '/wiki/Gujarati_language',\n",
       " '/wiki/Jin_Chinese',\n",
       " '/wiki/Southern_Min',\n",
       " '/wiki/Hokkien_language',\n",
       " '/wiki/Teochew_language',\n",
       " '/wiki/Persian_language',\n",
       " '/wiki/Polish_language',\n",
       " '/wiki/Pashto_language',\n",
       " '/wiki/Kannada_language',\n",
       " '/wiki/Xiang_Chinese',\n",
       " '/wiki/Malayalam_language',\n",
       " '/wiki/Sundanese_language',\n",
       " '/wiki/Hausa_language',\n",
       " '/wiki/Odia_language',\n",
       " '/wiki/Burmese_language',\n",
       " '/wiki/Hakka_Chinese',\n",
       " '/wiki/Ukrainian_language',\n",
       " '/wiki/Bhojpuri_language',\n",
       " '/wiki/Tagalog_language',\n",
       " '/wiki/Filipino_language',\n",
       " '/wiki/Yoruba_language',\n",
       " '/wiki/Maithili_language',\n",
       " '/wiki/Uzbek_language',\n",
       " '/wiki/Sindhi_language',\n",
       " '/wiki/Amharic_language',\n",
       " '/wiki/Fula_language',\n",
       " '/wiki/Romanian_language',\n",
       " '/wiki/Oromo_language',\n",
       " '/wiki/Igbo_language',\n",
       " '/wiki/Azerbaijani_language',\n",
       " '/wiki/Awadhi',\n",
       " '/wiki/Gan_Chinese',\n",
       " '/wiki/Cebuano_language',\n",
       " '/wiki/Dutch_language',\n",
       " '/wiki/Kurdish_language',\n",
       " '/wiki/Serbo-Croatian',\n",
       " '/wiki/Malagasy_language',\n",
       " '/wiki/Saraiki_language',\n",
       " '/wiki/Nepali_language',\n",
       " '/wiki/Sinhala_language',\n",
       " '/wiki/Chittagonian_language',\n",
       " '/wiki/Zhuang_languages',\n",
       " '/wiki/Khmer_language',\n",
       " '/wiki/Turkmen_language',\n",
       " '/wiki/Assamese_language',\n",
       " '/wiki/Madurese_language',\n",
       " '/wiki/Somali_language',\n",
       " '/wiki/Marwari_language',\n",
       " '/wiki/Magahi_language',\n",
       " '/wiki/Haryanvi_language',\n",
       " '/wiki/Hungarian_language',\n",
       " '/wiki/Chhattisgarhi_language',\n",
       " '/wiki/Greek_language',\n",
       " '/wiki/Chewa_language',\n",
       " '/wiki/Deccan_language',\n",
       " '/wiki/Akan_language',\n",
       " '/wiki/Kazakh_language',\n",
       " '/wiki/Northern_Min',\n",
       " '/wiki/Sylheti_language',\n",
       " '/wiki/Zulu_language',\n",
       " '/wiki/Czech_language',\n",
       " '/wiki/Kinyarwanda',\n",
       " '/wiki/Dhundari_language',\n",
       " '/wiki/Haitian_Creole',\n",
       " '/wiki/Eastern_Min',\n",
       " '/wiki/Fuzhou_dialect',\n",
       " '/wiki/Ilocano_language',\n",
       " '/wiki/Quechua_languages',\n",
       " '/wiki/Kirundi',\n",
       " '/wiki/Swedish_language',\n",
       " '/wiki/Hmong_language',\n",
       " '/wiki/Shona_language',\n",
       " '/wiki/Uyghur_language',\n",
       " '/wiki/Hiligaynon_language',\n",
       " '/wiki/Mossi_language',\n",
       " '/wiki/Xhosa_language',\n",
       " '/wiki/Belarusian_language',\n",
       " '/wiki/Balochi_language',\n",
       " '/wiki/Konkani_language']"
      ]
     },
     "execution_count": 230,
     "metadata": {},
     "output_type": "execute_result"
    }
   ],
   "source": [
    "language=[]\n",
    "population_million=[]\n",
    "\n",
    "num_iter = len(soup.select(\"#mw-content-text > div > table > tbody > tr > td > a\"))\n",
    "# iterate through the result set and retrive all the data\n",
    "for i in range(num_iter):\n",
    "    language.append(soup.select(\"#mw-content-text > div > table > tbody > tr > td > a\")[i][\"href\"])\n",
    "language"
   ]
  },
  {
   "cell_type": "code",
   "execution_count": null,
   "metadata": {},
   "outputs": [],
   "source": [
    "#num_iter = len(soup.select(\"#mw-content-text > div > table > tbody > tr > td\"))\n",
    "# iterate through the result set and retrive all the data\n",
    "#for i in range(num_iter):\n",
    "    #population_million.append(soup.select(\"#mw-content-text > div > table > tbody > tr > td\")[i])\n",
    "#population_million"
   ]
  },
  {
   "cell_type": "code",
   "execution_count": null,
   "metadata": {},
   "outputs": [],
   "source": []
  }
 ],
 "metadata": {
  "kernelspec": {
   "display_name": "Python 3",
   "language": "python",
   "name": "python3"
  },
  "language_info": {
   "codemirror_mode": {
    "name": "ipython",
    "version": 3
   },
   "file_extension": ".py",
   "mimetype": "text/x-python",
   "name": "python",
   "nbconvert_exporter": "python",
   "pygments_lexer": "ipython3",
   "version": "3.8.3"
  }
 },
 "nbformat": 4,
 "nbformat_minor": 4
}
